{
 "cells": [
  {
   "attachments": {},
   "cell_type": "markdown",
   "metadata": {},
   "source": [
    "## Data discovery: Load and query Random data, to create RDD\n",
    "> The hello_world_text.txt file only contains a random sentece, to be used for our word-count function below"
   ]
  },
  {
   "attachments": {},
   "cell_type": "markdown",
   "metadata": {},
   "source": [
    "### This cell only shows how to document code\n",
    "```python\n",
    "print('hello, world')\n",
    "```"
   ]
  },
  {
   "cell_type": "code",
   "execution_count": 2,
   "metadata": {},
   "outputs": [],
   "source": [
    "from pyspark import SparkContext"
   ]
  },
  {
   "cell_type": "code",
   "execution_count": 4,
   "metadata": {},
   "outputs": [],
   "source": [
    "def word_count(file_path):\n",
    "    \"\"\"\n",
    "    The word_count function takes a file path as input, performing a simple word count using SparkContext. \n",
    "    \"\"\"\n",
    "    # Create a SparkContext\n",
    "    sc = SparkContext(appName=\"WordCount\")\n",
    "\n",
    "    try:\n",
    "        # Read the text file and split it into words\n",
    "        lines = sc.textFile(file_path)\n",
    "        words = lines.flatMap(lambda line: line.split(\" \"))\n",
    "        \n",
    "        # Count the occurrences of each word\n",
    "        word_counts = words.countByValue()\n",
    "\n",
    "        # Print the word counts\n",
    "        for word, count in word_counts.items():\n",
    "            print(f\"{word}: {count}\")\n",
    "\n",
    "    finally:\n",
    "        # Stop the SparkContext\n",
    "        sc.stop()"
   ]
  },
  {
   "cell_type": "code",
   "execution_count": 5,
   "metadata": {},
   "outputs": [
    {
     "name": "stderr",
     "output_type": "stream",
     "text": [
      "Setting default log level to \"WARN\".\n",
      "To adjust logging level use sc.setLogLevel(newLevel). For SparkR, use setLogLevel(newLevel).\n",
      "24/11/03 20:37:30 WARN NativeCodeLoader: Unable to load native-hadoop library for your platform... using builtin-java classes where applicable\n",
      "                                                                                \r"
     ]
    },
    {
     "name": "stdout",
     "output_type": "stream",
     "text": [
      "I: 2\n",
      "live: 1\n",
      "in: 3\n",
      "Brazil,: 2\n",
      "although: 1\n",
      "was: 1\n",
      "not: 1\n",
      "born: 1\n",
      "but: 1\n",
      "Colombia!: 1\n"
     ]
    }
   ],
   "source": [
    "# Example usage\n",
    "word_count(\"data/text/hello_world_text.txt\")\n"
   ]
  },
  {
   "cell_type": "code",
   "execution_count": null,
   "metadata": {},
   "outputs": [],
   "source": []
  }
 ],
 "metadata": {
  "kernelspec": {
   "display_name": "base",
   "language": "python",
   "name": "python3"
  },
  "language_info": {
   "codemirror_mode": {
    "name": "ipython",
    "version": 3
   },
   "file_extension": ".py",
   "mimetype": "text/x-python",
   "name": "python",
   "nbconvert_exporter": "python",
   "pygments_lexer": "ipython3",
   "version": "3.12.4"
  },
  "orig_nbformat": 4
 },
 "nbformat": 4,
 "nbformat_minor": 2
}
